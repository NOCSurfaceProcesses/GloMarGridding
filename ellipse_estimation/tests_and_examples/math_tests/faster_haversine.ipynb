{
 "cells": [
  {
   "cell_type": "code",
   "execution_count": 1,
   "id": "4195d162-cf1d-4e52-a842-cf9a35245828",
   "metadata": {},
   "outputs": [],
   "source": [
    "import numpy as np\n",
    "import pandas as pd"
   ]
  },
  {
   "cell_type": "code",
   "execution_count": 2,
   "id": "79daa641-61bb-44d5-8600-19a7be8e2f4f",
   "metadata": {},
   "outputs": [],
   "source": [
    "def haversine_np(lon1, lat1, lon2, lat2):\n",
    "    \"\"\"\n",
    "    Calculate the great circle distance between two points\n",
    "    on the earth (specified in decimal degrees)\n",
    "\n",
    "    All args must be of equal length.\n",
    "\n",
    "    \"\"\"\n",
    "    lon1, lat1, lon2, lat2 = map(np.radians, [lon1, lat1, lon2, lat2])\n",
    "\n",
    "    dlon = lon2 - lon1\n",
    "    dlat = lat2 - lat1\n",
    "\n",
    "    a = (\n",
    "        np.sin(dlat / 2.0) ** 2\n",
    "        + np.cos(lat1) * np.cos(lat2) * np.sin(dlon / 2.0) ** 2\n",
    "    )\n",
    "\n",
    "    c = 2 * np.arcsin(np.sqrt(a))\n",
    "    km = 6378.137 * c\n",
    "    return km"
   ]
  },
  {
   "cell_type": "code",
   "execution_count": 4,
   "id": "0f4e4f2d-c594-4fd0-a7f1-029dbb721ef5",
   "metadata": {},
   "outputs": [],
   "source": [
    "lon1, lon2, lat1, lat2 = np.random.randn(4, 1000)\n",
    "df = pd.DataFrame(data={\"lon1\": lon1, \"lon2\": lon2, \"lat1\": lat1, \"lat2\": lat2})\n",
    "km = haversine_np(df[\"lon1\"], df[\"lat1\"], df[\"lon2\"], df[\"lat2\"])"
   ]
  },
  {
   "cell_type": "code",
   "execution_count": 5,
   "id": "e621cd01-137d-4657-a102-7b976aa62cc3",
   "metadata": {},
   "outputs": [
    {
     "name": "stdout",
     "output_type": "stream",
     "text": [
      "0       42.687241\n",
      "1      305.525508\n",
      "2      210.509858\n",
      "3      154.354322\n",
      "4      208.524412\n",
      "          ...    \n",
      "995    191.902952\n",
      "996    113.803820\n",
      "997    209.532411\n",
      "998     85.990936\n",
      "999    140.572621\n",
      "Length: 1000, dtype: float64\n"
     ]
    }
   ],
   "source": [
    "print(km)"
   ]
  },
  {
   "cell_type": "code",
   "execution_count": 7,
   "id": "765ca7f9-66e9-4b6b-bc1e-5e4cd4274a4b",
   "metadata": {},
   "outputs": [
    {
     "name": "stdout",
     "output_type": "stream",
     "text": [
      "11111.974419470494\n"
     ]
    }
   ],
   "source": [
    "print(haversine_np(-58.5166646, -34.83333, 2.53844117956, 49.0083899664))"
   ]
  },
  {
   "cell_type": "code",
   "execution_count": null,
   "id": "657c47d5-1a79-4cb3-b3d4-b17f6d43b835",
   "metadata": {},
   "outputs": [],
   "source": []
  }
 ],
 "metadata": {
  "kernelspec": {
   "display_name": "gis_extra",
   "language": "python",
   "name": "gis_extra"
  },
  "language_info": {
   "codemirror_mode": {
    "name": "ipython",
    "version": 3
   },
   "file_extension": ".py",
   "mimetype": "text/x-python",
   "name": "python",
   "nbconvert_exporter": "python",
   "pygments_lexer": "ipython3",
   "version": "3.10.8"
  }
 },
 "nbformat": 4,
 "nbformat_minor": 5
}
