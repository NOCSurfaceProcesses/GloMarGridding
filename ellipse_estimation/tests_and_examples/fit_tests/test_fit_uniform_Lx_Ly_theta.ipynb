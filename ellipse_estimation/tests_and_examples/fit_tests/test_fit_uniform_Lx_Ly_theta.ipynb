{
 "cells": [
  {
   "cell_type": "code",
   "execution_count": null,
   "metadata": {},
   "outputs": [],
   "source": [
    "%matplotlib inline"
   ]
  },
  {
   "cell_type": "code",
   "execution_count": null,
   "metadata": {},
   "outputs": [],
   "source": [
    "import numpy as np\n",
    "import iris"
   ]
  },
  {
   "cell_type": "code",
   "execution_count": null,
   "metadata": {},
   "outputs": [],
   "source": [
    "Lx = 1500.0\n",
    "Ly = 1200.0\n",
    "sdev = 0.6\n",
    "theta = np.deg2rad(2.5)"
   ]
  }
 ],
 "metadata": {
  "kernelspec": {
   "display_name": "anaconda-python3_3.11.3-GCCcore-12.3.0_gis_and_iris",
   "language": "python",
   "name": "python3"
  },
  "language_info": {
   "name": "python",
   "version": "3.11.3"
  }
 },
 "nbformat": 4,
 "nbformat_minor": 2
}
